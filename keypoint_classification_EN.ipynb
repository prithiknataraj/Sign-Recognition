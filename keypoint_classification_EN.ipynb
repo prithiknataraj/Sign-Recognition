{
 "cells": [
  {
   "cell_type": "code",
   "execution_count": 25,
   "metadata": {
    "id": "igMyGnjE9hEp"
   },
   "outputs": [],
   "source": [
    "import csv\n",
    "\n",
    "import numpy as np\n",
    "import tensorflow as tf\n",
    "from sklearn.model_selection import train_test_split\n",
    "\n",
    "RANDOM_SEED = 42"
   ]
  },
  {
   "cell_type": "markdown",
   "metadata": {
    "id": "t2HDvhIu9hEr"
   },
   "source": [
    "# Specify each path"
   ]
  },
  {
   "cell_type": "code",
   "execution_count": 26,
   "metadata": {
    "id": "9NvZP2Zn9hEy"
   },
   "outputs": [],
   "source": [
    "dataset = 'model/keypoint_classifier/keypoint.csv'\n",
    "model_save_path = 'model/keypoint_classifier/keypoint_classifier.hdf5'\n",
    "tflite_save_path = 'model/keypoint_classifier/keypoint_classifier.tflite'"
   ]
  },
  {
   "cell_type": "markdown",
   "metadata": {
    "id": "s5oMH7x19hEz"
   },
   "source": [
    "# Set number of classes"
   ]
  },
  {
   "cell_type": "code",
   "execution_count": 27,
   "metadata": {
    "id": "du4kodXL9hEz"
   },
   "outputs": [],
   "source": [
    "NUM_CLASSES = 63"
   ]
  },
  {
   "cell_type": "markdown",
   "metadata": {
    "id": "XjnL0uso9hEz"
   },
   "source": [
    "# Dataset reading"
   ]
  },
  {
   "cell_type": "code",
   "execution_count": 28,
   "metadata": {
    "id": "QT5ZqtEz9hE0"
   },
   "outputs": [],
   "source": [
    "X_dataset = np.loadtxt(dataset, delimiter=',', dtype='float32', usecols=list(range(1, (21 * 2) + 1)))"
   ]
  },
  {
   "cell_type": "code",
   "execution_count": 29,
   "metadata": {
    "id": "QmoKFsp49hE0"
   },
   "outputs": [],
   "source": [
    "y_dataset = np.loadtxt(dataset, delimiter=',', dtype='int32', usecols=(0))"
   ]
  },
  {
   "cell_type": "code",
   "execution_count": 30,
   "metadata": {
    "id": "xQU7JTZ_9hE0"
   },
   "outputs": [],
   "source": [
    "X_train, X_test, y_train, y_test = train_test_split(X_dataset, y_dataset, train_size=0.75, random_state=RANDOM_SEED)"
   ]
  },
  {
   "cell_type": "markdown",
   "metadata": {
    "id": "mxK_lETT9hE0"
   },
   "source": [
    "# Model building"
   ]
  },
  {
   "cell_type": "code",
   "execution_count": 31,
   "metadata": {
    "id": "vHBmUf1t9hE1"
   },
   "outputs": [],
   "source": [
    "model = tf.keras.models.Sequential([\n",
    "    tf.keras.layers.Input((21 * 2, )),\n",
    "    tf.keras.layers.Dropout(0.2),\n",
    "    tf.keras.layers.Dense(20, activation='relu'),\n",
    "    tf.keras.layers.Dropout(0.4),\n",
    "    tf.keras.layers.Dense(10, activation='relu'),\n",
    "    tf.keras.layers.Dense(NUM_CLASSES, activation='softmax')\n",
    "])"
   ]
  },
  {
   "cell_type": "code",
   "execution_count": 32,
   "metadata": {
    "colab": {
     "base_uri": "https://localhost:8080/"
    },
    "id": "ypqky9tc9hE1",
    "outputId": "5db082bb-30e3-4110-bf63-a1ee777ecd46"
   },
   "outputs": [
    {
     "name": "stdout",
     "output_type": "stream",
     "text": [
      "Model: \"sequential_1\"\n",
      "_________________________________________________________________\n",
      " Layer (type)                Output Shape              Param #   \n",
      "=================================================================\n",
      " dropout_2 (Dropout)         (None, 42)                0         \n",
      "                                                                 \n",
      " dense_3 (Dense)             (None, 20)                860       \n",
      "                                                                 \n",
      " dropout_3 (Dropout)         (None, 20)                0         \n",
      "                                                                 \n",
      " dense_4 (Dense)             (None, 10)                210       \n",
      "                                                                 \n",
      " dense_5 (Dense)             (None, 63)                693       \n",
      "                                                                 \n",
      "=================================================================\n",
      "Total params: 1763 (6.89 KB)\n",
      "Trainable params: 1763 (6.89 KB)\n",
      "Non-trainable params: 0 (0.00 Byte)\n",
      "_________________________________________________________________\n"
     ]
    }
   ],
   "source": [
    "model.summary()  # tf.keras.utils.plot_model(model, show_shapes=True)"
   ]
  },
  {
   "cell_type": "code",
   "execution_count": 33,
   "metadata": {
    "id": "MbMjOflQ9hE1"
   },
   "outputs": [],
   "source": [
    "# Model checkpoint callback\n",
    "cp_callback = tf.keras.callbacks.ModelCheckpoint(\n",
    "    model_save_path, verbose=1, save_weights_only=False)\n",
    "# Callback for early stopping\n",
    "es_callback = tf.keras.callbacks.EarlyStopping(patience=20, verbose=1)"
   ]
  },
  {
   "cell_type": "code",
   "execution_count": 34,
   "metadata": {
    "id": "c3Dac0M_9hE2"
   },
   "outputs": [],
   "source": [
    "# Model compilation\n",
    "model.compile(\n",
    "    optimizer='adam',\n",
    "    loss='sparse_categorical_crossentropy',\n",
    "    metrics=['accuracy']\n",
    ")"
   ]
  },
  {
   "cell_type": "markdown",
   "metadata": {
    "id": "7XI0j1Iu9hE2"
   },
   "source": [
    "# Model training"
   ]
  },
  {
   "cell_type": "code",
   "execution_count": 35,
   "metadata": {
    "colab": {
     "base_uri": "https://localhost:8080/"
    },
    "id": "WirBl-JE9hE3",
    "outputId": "71b30ca2-8294-4d9d-8aa2-800d90d399de",
    "scrolled": true
   },
   "outputs": [
    {
     "name": "stdout",
     "output_type": "stream",
     "text": [
      "Epoch 1/1000\n",
      "323/335 [===========================>..] - ETA: 0s - loss: 3.6818 - accuracy: 0.0630\n",
      "Epoch 1: saving model to model/keypoint_classifier\\keypoint_classifier.hdf5\n",
      "335/335 [==============================] - 3s 6ms/step - loss: 3.6610 - accuracy: 0.0653 - val_loss: 2.7155 - val_accuracy: 0.2673\n",
      "Epoch 2/1000\n",
      " 26/335 [=>............................] - ETA: 1s - loss: 2.9184 - accuracy: 0.1493"
     ]
    },
    {
     "name": "stderr",
     "output_type": "stream",
     "text": [
      "c:\\users\\prith\\appdata\\local\\programs\\python\\python38\\lib\\site-packages\\keras\\src\\engine\\training.py:3000: UserWarning: You are saving your model as an HDF5 file via `model.save()`. This file format is considered legacy. We recommend using instead the native Keras format, e.g. `model.save('my_model.keras')`.\n",
      "  saving_api.save_model(\n"
     ]
    },
    {
     "name": "stdout",
     "output_type": "stream",
     "text": [
      "327/335 [============================>.] - ETA: 0s - loss: 2.6058 - accuracy: 0.2111\n",
      "Epoch 2: saving model to model/keypoint_classifier\\keypoint_classifier.hdf5\n",
      "335/335 [==============================] - 2s 5ms/step - loss: 2.6001 - accuracy: 0.2122 - val_loss: 1.8825 - val_accuracy: 0.5470\n",
      "Epoch 3/1000\n",
      "333/335 [============================>.] - ETA: 0s - loss: 2.2195 - accuracy: 0.2977\n",
      "Epoch 3: saving model to model/keypoint_classifier\\keypoint_classifier.hdf5\n",
      "335/335 [==============================] - 2s 5ms/step - loss: 2.2193 - accuracy: 0.2976 - val_loss: 1.5456 - val_accuracy: 0.6839\n",
      "Epoch 4/1000\n",
      "325/335 [============================>.] - ETA: 0s - loss: 2.0409 - accuracy: 0.3454\n",
      "Epoch 4: saving model to model/keypoint_classifier\\keypoint_classifier.hdf5\n",
      "335/335 [==============================] - 2s 5ms/step - loss: 2.0406 - accuracy: 0.3453 - val_loss: 1.3670 - val_accuracy: 0.7383\n",
      "Epoch 5/1000\n",
      "331/335 [============================>.] - ETA: 0s - loss: 1.9373 - accuracy: 0.3777\n",
      "Epoch 5: saving model to model/keypoint_classifier\\keypoint_classifier.hdf5\n",
      "335/335 [==============================] - 2s 4ms/step - loss: 1.9369 - accuracy: 0.3778 - val_loss: 1.2351 - val_accuracy: 0.8165\n",
      "Epoch 6/1000\n",
      "324/335 [============================>.] - ETA: 0s - loss: 1.8609 - accuracy: 0.3984\n",
      "Epoch 6: saving model to model/keypoint_classifier\\keypoint_classifier.hdf5\n",
      "335/335 [==============================] - 2s 5ms/step - loss: 1.8606 - accuracy: 0.3983 - val_loss: 1.1511 - val_accuracy: 0.8272\n",
      "Epoch 7/1000\n",
      "325/335 [============================>.] - ETA: 0s - loss: 1.7992 - accuracy: 0.4208\n",
      "Epoch 7: saving model to model/keypoint_classifier\\keypoint_classifier.hdf5\n",
      "335/335 [==============================] - 2s 5ms/step - loss: 1.7980 - accuracy: 0.4216 - val_loss: 1.0786 - val_accuracy: 0.8221\n",
      "Epoch 8/1000\n",
      "326/335 [============================>.] - ETA: 0s - loss: 1.7623 - accuracy: 0.4319\n",
      "Epoch 8: saving model to model/keypoint_classifier\\keypoint_classifier.hdf5\n",
      "335/335 [==============================] - 2s 5ms/step - loss: 1.7624 - accuracy: 0.4321 - val_loss: 1.0273 - val_accuracy: 0.8553\n",
      "Epoch 9/1000\n",
      "324/335 [============================>.] - ETA: 0s - loss: 1.7129 - accuracy: 0.4435\n",
      "Epoch 9: saving model to model/keypoint_classifier\\keypoint_classifier.hdf5\n",
      "335/335 [==============================] - 2s 5ms/step - loss: 1.7157 - accuracy: 0.4436 - val_loss: 0.9900 - val_accuracy: 0.8380\n",
      "Epoch 10/1000\n",
      "323/335 [===========================>..] - ETA: 0s - loss: 1.6758 - accuracy: 0.4558\n",
      "Epoch 10: saving model to model/keypoint_classifier\\keypoint_classifier.hdf5\n",
      "335/335 [==============================] - 2s 5ms/step - loss: 1.6760 - accuracy: 0.4565 - val_loss: 0.9396 - val_accuracy: 0.8485\n",
      "Epoch 11/1000\n",
      "329/335 [============================>.] - ETA: 0s - loss: 1.6529 - accuracy: 0.4646\n",
      "Epoch 11: saving model to model/keypoint_classifier\\keypoint_classifier.hdf5\n",
      "335/335 [==============================] - 2s 5ms/step - loss: 1.6532 - accuracy: 0.4651 - val_loss: 0.9039 - val_accuracy: 0.8430\n",
      "Epoch 12/1000\n",
      "325/335 [============================>.] - ETA: 0s - loss: 1.6044 - accuracy: 0.4838\n",
      "Epoch 12: saving model to model/keypoint_classifier\\keypoint_classifier.hdf5\n",
      "335/335 [==============================] - 2s 5ms/step - loss: 1.6036 - accuracy: 0.4836 - val_loss: 0.8584 - val_accuracy: 0.8577\n",
      "Epoch 13/1000\n",
      "332/335 [============================>.] - ETA: 0s - loss: 1.5952 - accuracy: 0.4809\n",
      "Epoch 13: saving model to model/keypoint_classifier\\keypoint_classifier.hdf5\n",
      "335/335 [==============================] - 2s 5ms/step - loss: 1.5944 - accuracy: 0.4812 - val_loss: 0.8340 - val_accuracy: 0.8703\n",
      "Epoch 14/1000\n",
      "327/335 [============================>.] - ETA: 0s - loss: 1.5685 - accuracy: 0.4954\n",
      "Epoch 14: saving model to model/keypoint_classifier\\keypoint_classifier.hdf5\n",
      "335/335 [==============================] - 2s 5ms/step - loss: 1.5694 - accuracy: 0.4949 - val_loss: 0.8055 - val_accuracy: 0.8831\n",
      "Epoch 15/1000\n",
      "329/335 [============================>.] - ETA: 0s - loss: 1.5351 - accuracy: 0.5019\n",
      "Epoch 15: saving model to model/keypoint_classifier\\keypoint_classifier.hdf5\n",
      "335/335 [==============================] - 2s 5ms/step - loss: 1.5351 - accuracy: 0.5020 - val_loss: 0.7748 - val_accuracy: 0.8614\n",
      "Epoch 16/1000\n",
      "324/335 [============================>.] - ETA: 0s - loss: 1.5204 - accuracy: 0.5088\n",
      "Epoch 16: saving model to model/keypoint_classifier\\keypoint_classifier.hdf5\n",
      "335/335 [==============================] - 2s 5ms/step - loss: 1.5189 - accuracy: 0.5090 - val_loss: 0.7544 - val_accuracy: 0.8874\n",
      "Epoch 17/1000\n",
      "330/335 [============================>.] - ETA: 0s - loss: 1.5023 - accuracy: 0.5139\n",
      "Epoch 17: saving model to model/keypoint_classifier\\keypoint_classifier.hdf5\n",
      "335/335 [==============================] - 2s 5ms/step - loss: 1.5021 - accuracy: 0.5139 - val_loss: 0.7366 - val_accuracy: 0.8737\n",
      "Epoch 18/1000\n",
      "326/335 [============================>.] - ETA: 0s - loss: 1.4905 - accuracy: 0.5178\n",
      "Epoch 18: saving model to model/keypoint_classifier\\keypoint_classifier.hdf5\n",
      "335/335 [==============================] - 2s 5ms/step - loss: 1.4899 - accuracy: 0.5179 - val_loss: 0.7022 - val_accuracy: 0.9136\n",
      "Epoch 19/1000\n",
      "326/335 [============================>.] - ETA: 0s - loss: 1.4734 - accuracy: 0.5231\n",
      "Epoch 19: saving model to model/keypoint_classifier\\keypoint_classifier.hdf5\n",
      "335/335 [==============================] - 2s 5ms/step - loss: 1.4733 - accuracy: 0.5236 - val_loss: 0.6930 - val_accuracy: 0.8705\n",
      "Epoch 20/1000\n",
      "332/335 [============================>.] - ETA: 0s - loss: 1.4520 - accuracy: 0.5271\n",
      "Epoch 20: saving model to model/keypoint_classifier\\keypoint_classifier.hdf5\n",
      "335/335 [==============================] - 2s 5ms/step - loss: 1.4513 - accuracy: 0.5273 - val_loss: 0.6809 - val_accuracy: 0.8726\n",
      "Epoch 21/1000\n",
      "325/335 [============================>.] - ETA: 0s - loss: 1.4378 - accuracy: 0.5327\n",
      "Epoch 21: saving model to model/keypoint_classifier\\keypoint_classifier.hdf5\n",
      "335/335 [==============================] - 2s 5ms/step - loss: 1.4380 - accuracy: 0.5327 - val_loss: 0.6756 - val_accuracy: 0.8739\n",
      "Epoch 22/1000\n",
      "322/335 [===========================>..] - ETA: 0s - loss: 1.4317 - accuracy: 0.5345\n",
      "Epoch 22: saving model to model/keypoint_classifier\\keypoint_classifier.hdf5\n",
      "335/335 [==============================] - 2s 5ms/step - loss: 1.4319 - accuracy: 0.5342 - val_loss: 0.6522 - val_accuracy: 0.9017\n",
      "Epoch 23/1000\n",
      "329/335 [============================>.] - ETA: 0s - loss: 1.4238 - accuracy: 0.5396\n",
      "Epoch 23: saving model to model/keypoint_classifier\\keypoint_classifier.hdf5\n",
      "335/335 [==============================] - 2s 5ms/step - loss: 1.4233 - accuracy: 0.5393 - val_loss: 0.6418 - val_accuracy: 0.8986\n",
      "Epoch 24/1000\n",
      "327/335 [============================>.] - ETA: 0s - loss: 1.4062 - accuracy: 0.5441\n",
      "Epoch 24: saving model to model/keypoint_classifier\\keypoint_classifier.hdf5\n",
      "335/335 [==============================] - 2s 5ms/step - loss: 1.4060 - accuracy: 0.5440 - val_loss: 0.6246 - val_accuracy: 0.8915\n",
      "Epoch 25/1000\n",
      "334/335 [============================>.] - ETA: 0s - loss: 1.4075 - accuracy: 0.5436\n",
      "Epoch 25: saving model to model/keypoint_classifier\\keypoint_classifier.hdf5\n",
      "335/335 [==============================] - 2s 5ms/step - loss: 1.4075 - accuracy: 0.5437 - val_loss: 0.6209 - val_accuracy: 0.8988\n",
      "Epoch 26/1000\n",
      "328/335 [============================>.] - ETA: 0s - loss: 1.3958 - accuracy: 0.5445\n",
      "Epoch 26: saving model to model/keypoint_classifier\\keypoint_classifier.hdf5\n",
      "335/335 [==============================] - 2s 5ms/step - loss: 1.3964 - accuracy: 0.5440 - val_loss: 0.6091 - val_accuracy: 0.9137\n",
      "Epoch 27/1000\n",
      "323/335 [===========================>..] - ETA: 0s - loss: 1.3897 - accuracy: 0.5480\n",
      "Epoch 27: saving model to model/keypoint_classifier\\keypoint_classifier.hdf5\n",
      "335/335 [==============================] - 2s 5ms/step - loss: 1.3881 - accuracy: 0.5485 - val_loss: 0.6010 - val_accuracy: 0.8913\n",
      "Epoch 28/1000\n",
      "334/335 [============================>.] - ETA: 0s - loss: 1.3769 - accuracy: 0.5491\n",
      "Epoch 28: saving model to model/keypoint_classifier\\keypoint_classifier.hdf5\n",
      "335/335 [==============================] - 2s 5ms/step - loss: 1.3768 - accuracy: 0.5492 - val_loss: 0.5972 - val_accuracy: 0.9043\n",
      "Epoch 29/1000\n",
      "329/335 [============================>.] - ETA: 0s - loss: 1.3627 - accuracy: 0.5563\n",
      "Epoch 29: saving model to model/keypoint_classifier\\keypoint_classifier.hdf5\n",
      "335/335 [==============================] - 2s 5ms/step - loss: 1.3620 - accuracy: 0.5564 - val_loss: 0.5815 - val_accuracy: 0.9113\n",
      "Epoch 30/1000\n",
      "332/335 [============================>.] - ETA: 0s - loss: 1.3638 - accuracy: 0.5557\n",
      "Epoch 30: saving model to model/keypoint_classifier\\keypoint_classifier.hdf5\n",
      "335/335 [==============================] - 2s 5ms/step - loss: 1.3638 - accuracy: 0.5558 - val_loss: 0.5751 - val_accuracy: 0.9190\n",
      "Epoch 31/1000\n",
      "322/335 [===========================>..] - ETA: 0s - loss: 1.3593 - accuracy: 0.5541\n",
      "Epoch 31: saving model to model/keypoint_classifier\\keypoint_classifier.hdf5\n",
      "335/335 [==============================] - 2s 5ms/step - loss: 1.3596 - accuracy: 0.5537 - val_loss: 0.5697 - val_accuracy: 0.9143\n",
      "Epoch 32/1000\n",
      "335/335 [==============================] - ETA: 0s - loss: 1.3481 - accuracy: 0.5602\n",
      "Epoch 32: saving model to model/keypoint_classifier\\keypoint_classifier.hdf5\n",
      "335/335 [==============================] - 2s 5ms/step - loss: 1.3481 - accuracy: 0.5602 - val_loss: 0.5605 - val_accuracy: 0.9155\n",
      "Epoch 33/1000\n",
      "335/335 [==============================] - ETA: 0s - loss: 1.3451 - accuracy: 0.5636\n",
      "Epoch 33: saving model to model/keypoint_classifier\\keypoint_classifier.hdf5\n",
      "335/335 [==============================] - 2s 5ms/step - loss: 1.3451 - accuracy: 0.5636 - val_loss: 0.5557 - val_accuracy: 0.9136\n",
      "Epoch 34/1000\n",
      "329/335 [============================>.] - ETA: 0s - loss: 1.3314 - accuracy: 0.5638\n",
      "Epoch 34: saving model to model/keypoint_classifier\\keypoint_classifier.hdf5\n",
      "335/335 [==============================] - 2s 5ms/step - loss: 1.3319 - accuracy: 0.5633 - val_loss: 0.5497 - val_accuracy: 0.9113\n",
      "Epoch 35/1000\n",
      "332/335 [============================>.] - ETA: 0s - loss: 1.3311 - accuracy: 0.5649\n",
      "Epoch 35: saving model to model/keypoint_classifier\\keypoint_classifier.hdf5\n",
      "335/335 [==============================] - 2s 5ms/step - loss: 1.3306 - accuracy: 0.5652 - val_loss: 0.5303 - val_accuracy: 0.9140\n",
      "Epoch 36/1000\n",
      "326/335 [============================>.] - ETA: 0s - loss: 1.3249 - accuracy: 0.5660\n",
      "Epoch 36: saving model to model/keypoint_classifier\\keypoint_classifier.hdf5\n",
      "335/335 [==============================] - 2s 6ms/step - loss: 1.3253 - accuracy: 0.5661 - val_loss: 0.5378 - val_accuracy: 0.9040\n",
      "Epoch 37/1000\n",
      "330/335 [============================>.] - ETA: 0s - loss: 1.3147 - accuracy: 0.5669\n",
      "Epoch 37: saving model to model/keypoint_classifier\\keypoint_classifier.hdf5\n",
      "335/335 [==============================] - 2s 5ms/step - loss: 1.3156 - accuracy: 0.5666 - val_loss: 0.5364 - val_accuracy: 0.9183\n",
      "Epoch 38/1000\n",
      "325/335 [============================>.] - ETA: 0s - loss: 1.3146 - accuracy: 0.5708\n",
      "Epoch 38: saving model to model/keypoint_classifier\\keypoint_classifier.hdf5\n",
      "335/335 [==============================] - 2s 5ms/step - loss: 1.3131 - accuracy: 0.5714 - val_loss: 0.5386 - val_accuracy: 0.8902\n",
      "Epoch 39/1000\n",
      "326/335 [============================>.] - ETA: 0s - loss: 1.3111 - accuracy: 0.5698\n",
      "Epoch 39: saving model to model/keypoint_classifier\\keypoint_classifier.hdf5\n",
      "335/335 [==============================] - 2s 5ms/step - loss: 1.3114 - accuracy: 0.5696 - val_loss: 0.5246 - val_accuracy: 0.9242\n",
      "Epoch 40/1000\n",
      "332/335 [============================>.] - ETA: 0s - loss: 1.2999 - accuracy: 0.5732\n",
      "Epoch 40: saving model to model/keypoint_classifier\\keypoint_classifier.hdf5\n",
      "335/335 [==============================] - 2s 5ms/step - loss: 1.3001 - accuracy: 0.5731 - val_loss: 0.5255 - val_accuracy: 0.9071\n",
      "Epoch 41/1000\n",
      "330/335 [============================>.] - ETA: 0s - loss: 1.3039 - accuracy: 0.5732\n",
      "Epoch 41: saving model to model/keypoint_classifier\\keypoint_classifier.hdf5\n",
      "335/335 [==============================] - 2s 5ms/step - loss: 1.3029 - accuracy: 0.5735 - val_loss: 0.5140 - val_accuracy: 0.9228\n",
      "Epoch 42/1000\n",
      "332/335 [============================>.] - ETA: 0s - loss: 1.3043 - accuracy: 0.5755\n",
      "Epoch 42: saving model to model/keypoint_classifier\\keypoint_classifier.hdf5\n",
      "335/335 [==============================] - 2s 5ms/step - loss: 1.3044 - accuracy: 0.5756 - val_loss: 0.5010 - val_accuracy: 0.9211\n",
      "Epoch 43/1000\n",
      "329/335 [============================>.] - ETA: 0s - loss: 1.2903 - accuracy: 0.5774\n",
      "Epoch 43: saving model to model/keypoint_classifier\\keypoint_classifier.hdf5\n",
      "335/335 [==============================] - 2s 5ms/step - loss: 1.2906 - accuracy: 0.5768 - val_loss: 0.5083 - val_accuracy: 0.9178\n",
      "Epoch 44/1000\n",
      "333/335 [============================>.] - ETA: 0s - loss: 1.2871 - accuracy: 0.5787\n",
      "Epoch 44: saving model to model/keypoint_classifier\\keypoint_classifier.hdf5\n",
      "335/335 [==============================] - 2s 5ms/step - loss: 1.2865 - accuracy: 0.5788 - val_loss: 0.5009 - val_accuracy: 0.9254\n",
      "Epoch 45/1000\n",
      "327/335 [============================>.] - ETA: 0s - loss: 1.2715 - accuracy: 0.5839\n",
      "Epoch 45: saving model to model/keypoint_classifier\\keypoint_classifier.hdf5\n",
      "335/335 [==============================] - 2s 5ms/step - loss: 1.2710 - accuracy: 0.5844 - val_loss: 0.4972 - val_accuracy: 0.9089\n",
      "Epoch 46/1000\n",
      "330/335 [============================>.] - ETA: 0s - loss: 1.2744 - accuracy: 0.5815\n",
      "Epoch 46: saving model to model/keypoint_classifier\\keypoint_classifier.hdf5\n",
      "335/335 [==============================] - 2s 5ms/step - loss: 1.2742 - accuracy: 0.5818 - val_loss: 0.4875 - val_accuracy: 0.9196\n",
      "Epoch 47/1000\n",
      "325/335 [============================>.] - ETA: 0s - loss: 1.2716 - accuracy: 0.5859\n",
      "Epoch 47: saving model to model/keypoint_classifier\\keypoint_classifier.hdf5\n",
      "335/335 [==============================] - 2s 5ms/step - loss: 1.2691 - accuracy: 0.5863 - val_loss: 0.4889 - val_accuracy: 0.9128\n",
      "Epoch 48/1000\n",
      "330/335 [============================>.] - ETA: 0s - loss: 1.2653 - accuracy: 0.5842\n",
      "Epoch 48: saving model to model/keypoint_classifier\\keypoint_classifier.hdf5\n",
      "335/335 [==============================] - 2s 5ms/step - loss: 1.2647 - accuracy: 0.5842 - val_loss: 0.4888 - val_accuracy: 0.9110\n",
      "Epoch 49/1000\n",
      "326/335 [============================>.] - ETA: 0s - loss: 1.2681 - accuracy: 0.5850\n",
      "Epoch 49: saving model to model/keypoint_classifier\\keypoint_classifier.hdf5\n",
      "335/335 [==============================] - 2s 6ms/step - loss: 1.2660 - accuracy: 0.5858 - val_loss: 0.4790 - val_accuracy: 0.9183\n",
      "Epoch 50/1000\n",
      "324/335 [============================>.] - ETA: 0s - loss: 1.2650 - accuracy: 0.5866\n",
      "Epoch 50: saving model to model/keypoint_classifier\\keypoint_classifier.hdf5\n",
      "335/335 [==============================] - 2s 5ms/step - loss: 1.2617 - accuracy: 0.5870 - val_loss: 0.4783 - val_accuracy: 0.9089\n",
      "Epoch 51/1000\n",
      "334/335 [============================>.] - ETA: 0s - loss: 1.2530 - accuracy: 0.5907\n",
      "Epoch 51: saving model to model/keypoint_classifier\\keypoint_classifier.hdf5\n",
      "335/335 [==============================] - 2s 5ms/step - loss: 1.2529 - accuracy: 0.5907 - val_loss: 0.4836 - val_accuracy: 0.9190\n",
      "Epoch 52/1000\n",
      "323/335 [===========================>..] - ETA: 0s - loss: 1.2538 - accuracy: 0.5867\n",
      "Epoch 52: saving model to model/keypoint_classifier\\keypoint_classifier.hdf5\n",
      "335/335 [==============================] - 2s 5ms/step - loss: 1.2534 - accuracy: 0.5873 - val_loss: 0.4685 - val_accuracy: 0.9237\n",
      "Epoch 53/1000\n",
      "331/335 [============================>.] - ETA: 0s - loss: 1.2521 - accuracy: 0.5906\n",
      "Epoch 53: saving model to model/keypoint_classifier\\keypoint_classifier.hdf5\n",
      "335/335 [==============================] - 2s 5ms/step - loss: 1.2508 - accuracy: 0.5911 - val_loss: 0.4703 - val_accuracy: 0.9076\n",
      "Epoch 54/1000\n",
      "335/335 [==============================] - ETA: 0s - loss: 1.2461 - accuracy: 0.5923\n",
      "Epoch 54: saving model to model/keypoint_classifier\\keypoint_classifier.hdf5\n",
      "335/335 [==============================] - 2s 5ms/step - loss: 1.2461 - accuracy: 0.5923 - val_loss: 0.4656 - val_accuracy: 0.9212\n",
      "Epoch 55/1000\n",
      "325/335 [============================>.] - ETA: 0s - loss: 1.2472 - accuracy: 0.5902\n",
      "Epoch 55: saving model to model/keypoint_classifier\\keypoint_classifier.hdf5\n",
      "335/335 [==============================] - 2s 5ms/step - loss: 1.2484 - accuracy: 0.5905 - val_loss: 0.4647 - val_accuracy: 0.9133\n",
      "Epoch 56/1000\n",
      "328/335 [============================>.] - ETA: 0s - loss: 1.2335 - accuracy: 0.5930\n",
      "Epoch 56: saving model to model/keypoint_classifier\\keypoint_classifier.hdf5\n",
      "335/335 [==============================] - 2s 5ms/step - loss: 1.2342 - accuracy: 0.5925 - val_loss: 0.4596 - val_accuracy: 0.9199\n",
      "Epoch 57/1000\n",
      "327/335 [============================>.] - ETA: 0s - loss: 1.2358 - accuracy: 0.5934\n",
      "Epoch 57: saving model to model/keypoint_classifier\\keypoint_classifier.hdf5\n",
      "335/335 [==============================] - 2s 5ms/step - loss: 1.2375 - accuracy: 0.5934 - val_loss: 0.4626 - val_accuracy: 0.9225\n",
      "Epoch 58/1000\n",
      "322/335 [===========================>..] - ETA: 0s - loss: 1.2423 - accuracy: 0.5946\n",
      "Epoch 58: saving model to model/keypoint_classifier\\keypoint_classifier.hdf5\n",
      "335/335 [==============================] - 2s 5ms/step - loss: 1.2406 - accuracy: 0.5955 - val_loss: 0.4715 - val_accuracy: 0.9144\n",
      "Epoch 59/1000\n",
      "322/335 [===========================>..] - ETA: 0s - loss: 1.2344 - accuracy: 0.5960\n",
      "Epoch 59: saving model to model/keypoint_classifier\\keypoint_classifier.hdf5\n",
      "335/335 [==============================] - 2s 5ms/step - loss: 1.2370 - accuracy: 0.5956 - val_loss: 0.4687 - val_accuracy: 0.9277\n",
      "Epoch 60/1000\n",
      "322/335 [===========================>..] - ETA: 0s - loss: 1.2267 - accuracy: 0.5978\n",
      "Epoch 60: saving model to model/keypoint_classifier\\keypoint_classifier.hdf5\n",
      "335/335 [==============================] - 2s 5ms/step - loss: 1.2265 - accuracy: 0.5979 - val_loss: 0.4614 - val_accuracy: 0.9230\n",
      "Epoch 61/1000\n",
      "323/335 [===========================>..] - ETA: 0s - loss: 1.2392 - accuracy: 0.5936\n",
      "Epoch 61: saving model to model/keypoint_classifier\\keypoint_classifier.hdf5\n",
      "335/335 [==============================] - 2s 5ms/step - loss: 1.2397 - accuracy: 0.5943 - val_loss: 0.4554 - val_accuracy: 0.9196\n",
      "Epoch 62/1000\n",
      "323/335 [===========================>..] - ETA: 0s - loss: 1.2384 - accuracy: 0.5975\n",
      "Epoch 62: saving model to model/keypoint_classifier\\keypoint_classifier.hdf5\n",
      "335/335 [==============================] - 2s 5ms/step - loss: 1.2379 - accuracy: 0.5976 - val_loss: 0.4470 - val_accuracy: 0.9257\n",
      "Epoch 63/1000\n",
      "327/335 [============================>.] - ETA: 0s - loss: 1.2295 - accuracy: 0.5963\n",
      "Epoch 63: saving model to model/keypoint_classifier\\keypoint_classifier.hdf5\n",
      "335/335 [==============================] - 2s 5ms/step - loss: 1.2296 - accuracy: 0.5961 - val_loss: 0.4444 - val_accuracy: 0.9275\n",
      "Epoch 64/1000\n",
      "332/335 [============================>.] - ETA: 0s - loss: 1.2192 - accuracy: 0.6023\n",
      "Epoch 64: saving model to model/keypoint_classifier\\keypoint_classifier.hdf5\n",
      "335/335 [==============================] - 2s 5ms/step - loss: 1.2189 - accuracy: 0.6023 - val_loss: 0.4546 - val_accuracy: 0.9280\n",
      "Epoch 65/1000\n",
      "321/335 [===========================>..] - ETA: 0s - loss: 1.2280 - accuracy: 0.5987\n",
      "Epoch 65: saving model to model/keypoint_classifier\\keypoint_classifier.hdf5\n",
      "335/335 [==============================] - 2s 5ms/step - loss: 1.2263 - accuracy: 0.5992 - val_loss: 0.4570 - val_accuracy: 0.9157\n",
      "Epoch 66/1000\n",
      "335/335 [==============================] - ETA: 0s - loss: 1.2200 - accuracy: 0.6015\n",
      "Epoch 66: saving model to model/keypoint_classifier\\keypoint_classifier.hdf5\n",
      "335/335 [==============================] - 2s 5ms/step - loss: 1.2200 - accuracy: 0.6015 - val_loss: 0.4453 - val_accuracy: 0.9211\n",
      "Epoch 67/1000\n",
      "334/335 [============================>.] - ETA: 0s - loss: 1.2055 - accuracy: 0.6012\n",
      "Epoch 67: saving model to model/keypoint_classifier\\keypoint_classifier.hdf5\n",
      "335/335 [==============================] - 2s 5ms/step - loss: 1.2055 - accuracy: 0.6012 - val_loss: 0.4333 - val_accuracy: 0.9182\n",
      "Epoch 68/1000\n",
      "327/335 [============================>.] - ETA: 0s - loss: 1.2165 - accuracy: 0.6002\n",
      "Epoch 68: saving model to model/keypoint_classifier\\keypoint_classifier.hdf5\n",
      "335/335 [==============================] - 2s 5ms/step - loss: 1.2175 - accuracy: 0.6001 - val_loss: 0.4413 - val_accuracy: 0.9268\n",
      "Epoch 69/1000\n",
      "334/335 [============================>.] - ETA: 0s - loss: 1.2166 - accuracy: 0.6027\n",
      "Epoch 69: saving model to model/keypoint_classifier\\keypoint_classifier.hdf5\n",
      "335/335 [==============================] - 2s 5ms/step - loss: 1.2166 - accuracy: 0.6027 - val_loss: 0.4471 - val_accuracy: 0.9221\n",
      "Epoch 70/1000\n",
      "323/335 [===========================>..] - ETA: 0s - loss: 1.2051 - accuracy: 0.6071\n",
      "Epoch 70: saving model to model/keypoint_classifier\\keypoint_classifier.hdf5\n",
      "335/335 [==============================] - 2s 5ms/step - loss: 1.2045 - accuracy: 0.6072 - val_loss: 0.4333 - val_accuracy: 0.9270\n",
      "Epoch 71/1000\n",
      "333/335 [============================>.] - ETA: 0s - loss: 1.2189 - accuracy: 0.5996\n",
      "Epoch 71: saving model to model/keypoint_classifier\\keypoint_classifier.hdf5\n",
      "335/335 [==============================] - 2s 5ms/step - loss: 1.2186 - accuracy: 0.5996 - val_loss: 0.4494 - val_accuracy: 0.9230\n",
      "Epoch 72/1000\n",
      "322/335 [===========================>..] - ETA: 0s - loss: 1.2064 - accuracy: 0.6067\n",
      "Epoch 72: saving model to model/keypoint_classifier\\keypoint_classifier.hdf5\n",
      "335/335 [==============================] - 2s 5ms/step - loss: 1.2054 - accuracy: 0.6069 - val_loss: 0.4344 - val_accuracy: 0.9249\n",
      "Epoch 73/1000\n",
      "324/335 [============================>.] - ETA: 0s - loss: 1.2141 - accuracy: 0.6025\n",
      "Epoch 73: saving model to model/keypoint_classifier\\keypoint_classifier.hdf5\n",
      "335/335 [==============================] - 2s 5ms/step - loss: 1.2158 - accuracy: 0.6024 - val_loss: 0.4393 - val_accuracy: 0.9163\n",
      "Epoch 74/1000\n",
      "329/335 [============================>.] - ETA: 0s - loss: 1.2048 - accuracy: 0.6055\n",
      "Epoch 74: saving model to model/keypoint_classifier\\keypoint_classifier.hdf5\n",
      "335/335 [==============================] - 2s 5ms/step - loss: 1.2052 - accuracy: 0.6055 - val_loss: 0.4380 - val_accuracy: 0.9206\n",
      "Epoch 75/1000\n",
      "323/335 [===========================>..] - ETA: 0s - loss: 1.2104 - accuracy: 0.6015\n",
      "Epoch 75: saving model to model/keypoint_classifier\\keypoint_classifier.hdf5\n",
      "335/335 [==============================] - 2s 5ms/step - loss: 1.2106 - accuracy: 0.6016 - val_loss: 0.4361 - val_accuracy: 0.9196\n",
      "Epoch 76/1000\n",
      "329/335 [============================>.] - ETA: 0s - loss: 1.1941 - accuracy: 0.6075\n",
      "Epoch 76: saving model to model/keypoint_classifier\\keypoint_classifier.hdf5\n",
      "335/335 [==============================] - 2s 5ms/step - loss: 1.1927 - accuracy: 0.6077 - val_loss: 0.4419 - val_accuracy: 0.9163\n",
      "Epoch 77/1000\n",
      "323/335 [===========================>..] - ETA: 0s - loss: 1.2022 - accuracy: 0.6054\n",
      "Epoch 77: saving model to model/keypoint_classifier\\keypoint_classifier.hdf5\n",
      "335/335 [==============================] - 2s 5ms/step - loss: 1.2005 - accuracy: 0.6056 - val_loss: 0.4409 - val_accuracy: 0.9162\n",
      "Epoch 78/1000\n",
      "328/335 [============================>.] - ETA: 0s - loss: 1.2018 - accuracy: 0.6081\n",
      "Epoch 78: saving model to model/keypoint_classifier\\keypoint_classifier.hdf5\n",
      "335/335 [==============================] - 2s 5ms/step - loss: 1.2014 - accuracy: 0.6083 - val_loss: 0.4380 - val_accuracy: 0.9160\n",
      "Epoch 79/1000\n",
      "332/335 [============================>.] - ETA: 0s - loss: 1.1961 - accuracy: 0.6067\n",
      "Epoch 79: saving model to model/keypoint_classifier\\keypoint_classifier.hdf5\n",
      "335/335 [==============================] - 2s 5ms/step - loss: 1.1950 - accuracy: 0.6070 - val_loss: 0.4493 - val_accuracy: 0.9102\n",
      "Epoch 80/1000\n",
      "322/335 [===========================>..] - ETA: 0s - loss: 1.1932 - accuracy: 0.6096\n",
      "Epoch 80: saving model to model/keypoint_classifier\\keypoint_classifier.hdf5\n",
      "335/335 [==============================] - 2s 5ms/step - loss: 1.1971 - accuracy: 0.6085 - val_loss: 0.4337 - val_accuracy: 0.9244\n",
      "Epoch 81/1000\n",
      "330/335 [============================>.] - ETA: 0s - loss: 1.1937 - accuracy: 0.6113\n",
      "Epoch 81: saving model to model/keypoint_classifier\\keypoint_classifier.hdf5\n",
      "335/335 [==============================] - 2s 5ms/step - loss: 1.1941 - accuracy: 0.6112 - val_loss: 0.4239 - val_accuracy: 0.9277\n",
      "Epoch 82/1000\n",
      "334/335 [============================>.] - ETA: 0s - loss: 1.1876 - accuracy: 0.6091\n",
      "Epoch 82: saving model to model/keypoint_classifier\\keypoint_classifier.hdf5\n",
      "335/335 [==============================] - 2s 5ms/step - loss: 1.1878 - accuracy: 0.6091 - val_loss: 0.4391 - val_accuracy: 0.9226\n",
      "Epoch 83/1000\n",
      "323/335 [===========================>..] - ETA: 0s - loss: 1.1936 - accuracy: 0.6113\n",
      "Epoch 83: saving model to model/keypoint_classifier\\keypoint_classifier.hdf5\n",
      "335/335 [==============================] - 2s 5ms/step - loss: 1.1922 - accuracy: 0.6115 - val_loss: 0.4334 - val_accuracy: 0.9189\n",
      "Epoch 84/1000\n",
      "334/335 [============================>.] - ETA: 0s - loss: 1.1901 - accuracy: 0.6128\n",
      "Epoch 84: saving model to model/keypoint_classifier\\keypoint_classifier.hdf5\n",
      "335/335 [==============================] - 1s 4ms/step - loss: 1.1902 - accuracy: 0.6128 - val_loss: 0.4307 - val_accuracy: 0.9308\n",
      "Epoch 85/1000\n",
      "318/335 [===========================>..] - ETA: 0s - loss: 1.1734 - accuracy: 0.6127\n",
      "Epoch 85: saving model to model/keypoint_classifier\\keypoint_classifier.hdf5\n",
      "335/335 [==============================] - 1s 4ms/step - loss: 1.1761 - accuracy: 0.6121 - val_loss: 0.4279 - val_accuracy: 0.9096\n",
      "Epoch 86/1000\n",
      "320/335 [===========================>..] - ETA: 0s - loss: 1.1823 - accuracy: 0.6135\n",
      "Epoch 86: saving model to model/keypoint_classifier\\keypoint_classifier.hdf5\n",
      "335/335 [==============================] - 1s 4ms/step - loss: 1.1796 - accuracy: 0.6142 - val_loss: 0.4216 - val_accuracy: 0.9179\n",
      "Epoch 87/1000\n",
      "323/335 [===========================>..] - ETA: 0s - loss: 1.1854 - accuracy: 0.6154\n",
      "Epoch 87: saving model to model/keypoint_classifier\\keypoint_classifier.hdf5\n",
      "335/335 [==============================] - 2s 5ms/step - loss: 1.1826 - accuracy: 0.6159 - val_loss: 0.4311 - val_accuracy: 0.9185\n",
      "Epoch 88/1000\n",
      "330/335 [============================>.] - ETA: 0s - loss: 1.1707 - accuracy: 0.6148\n",
      "Epoch 88: saving model to model/keypoint_classifier\\keypoint_classifier.hdf5\n",
      "335/335 [==============================] - 2s 5ms/step - loss: 1.1705 - accuracy: 0.6147 - val_loss: 0.4394 - val_accuracy: 0.9077\n",
      "Epoch 89/1000\n",
      "330/335 [============================>.] - ETA: 0s - loss: 1.1889 - accuracy: 0.6098\n",
      "Epoch 89: saving model to model/keypoint_classifier\\keypoint_classifier.hdf5\n",
      "335/335 [==============================] - 2s 5ms/step - loss: 1.1877 - accuracy: 0.6099 - val_loss: 0.4339 - val_accuracy: 0.9213\n",
      "Epoch 90/1000\n",
      "328/335 [============================>.] - ETA: 0s - loss: 1.1769 - accuracy: 0.6156\n",
      "Epoch 90: saving model to model/keypoint_classifier\\keypoint_classifier.hdf5\n",
      "335/335 [==============================] - 2s 5ms/step - loss: 1.1776 - accuracy: 0.6150 - val_loss: 0.4374 - val_accuracy: 0.9172\n",
      "Epoch 91/1000\n",
      "329/335 [============================>.] - ETA: 0s - loss: 1.1808 - accuracy: 0.6157\n",
      "Epoch 91: saving model to model/keypoint_classifier\\keypoint_classifier.hdf5\n",
      "335/335 [==============================] - 2s 6ms/step - loss: 1.1797 - accuracy: 0.6156 - val_loss: 0.4214 - val_accuracy: 0.9232\n",
      "Epoch 92/1000\n",
      "330/335 [============================>.] - ETA: 0s - loss: 1.1710 - accuracy: 0.6151\n",
      "Epoch 92: saving model to model/keypoint_classifier\\keypoint_classifier.hdf5\n",
      "335/335 [==============================] - 2s 5ms/step - loss: 1.1725 - accuracy: 0.6148 - val_loss: 0.4305 - val_accuracy: 0.9230\n",
      "Epoch 93/1000\n",
      "332/335 [============================>.] - ETA: 0s - loss: 1.1722 - accuracy: 0.6134\n",
      "Epoch 93: saving model to model/keypoint_classifier\\keypoint_classifier.hdf5\n",
      "335/335 [==============================] - 2s 5ms/step - loss: 1.1715 - accuracy: 0.6133 - val_loss: 0.4283 - val_accuracy: 0.9119\n",
      "Epoch 94/1000\n",
      "331/335 [============================>.] - ETA: 0s - loss: 1.1804 - accuracy: 0.6171\n",
      "Epoch 94: saving model to model/keypoint_classifier\\keypoint_classifier.hdf5\n",
      "335/335 [==============================] - 2s 5ms/step - loss: 1.1810 - accuracy: 0.6171 - val_loss: 0.4170 - val_accuracy: 0.9222\n",
      "Epoch 95/1000\n",
      "328/335 [============================>.] - ETA: 0s - loss: 1.1726 - accuracy: 0.6151\n",
      "Epoch 95: saving model to model/keypoint_classifier\\keypoint_classifier.hdf5\n",
      "335/335 [==============================] - 2s 5ms/step - loss: 1.1718 - accuracy: 0.6153 - val_loss: 0.4218 - val_accuracy: 0.9219\n",
      "Epoch 96/1000\n",
      "329/335 [============================>.] - ETA: 0s - loss: 1.1755 - accuracy: 0.6172\n",
      "Epoch 96: saving model to model/keypoint_classifier\\keypoint_classifier.hdf5\n",
      "335/335 [==============================] - 2s 5ms/step - loss: 1.1754 - accuracy: 0.6170 - val_loss: 0.4286 - val_accuracy: 0.9225\n",
      "Epoch 97/1000\n",
      "332/335 [============================>.] - ETA: 0s - loss: 1.1792 - accuracy: 0.6131\n",
      "Epoch 97: saving model to model/keypoint_classifier\\keypoint_classifier.hdf5\n",
      "335/335 [==============================] - 2s 5ms/step - loss: 1.1791 - accuracy: 0.6131 - val_loss: 0.4197 - val_accuracy: 0.9196\n",
      "Epoch 98/1000\n",
      "333/335 [============================>.] - ETA: 0s - loss: 1.1798 - accuracy: 0.6140\n",
      "Epoch 98: saving model to model/keypoint_classifier\\keypoint_classifier.hdf5\n",
      "335/335 [==============================] - 2s 5ms/step - loss: 1.1795 - accuracy: 0.6140 - val_loss: 0.4247 - val_accuracy: 0.9256\n",
      "Epoch 99/1000\n",
      "329/335 [============================>.] - ETA: 0s - loss: 1.1743 - accuracy: 0.6197\n",
      "Epoch 99: saving model to model/keypoint_classifier\\keypoint_classifier.hdf5\n",
      "335/335 [==============================] - 2s 5ms/step - loss: 1.1728 - accuracy: 0.6201 - val_loss: 0.4136 - val_accuracy: 0.9254\n",
      "Epoch 100/1000\n",
      "325/335 [============================>.] - ETA: 0s - loss: 1.1682 - accuracy: 0.6175\n",
      "Epoch 100: saving model to model/keypoint_classifier\\keypoint_classifier.hdf5\n",
      "335/335 [==============================] - 2s 5ms/step - loss: 1.1683 - accuracy: 0.6175 - val_loss: 0.4178 - val_accuracy: 0.9220\n",
      "Epoch 101/1000\n",
      "326/335 [============================>.] - ETA: 0s - loss: 1.1670 - accuracy: 0.6153\n",
      "Epoch 101: saving model to model/keypoint_classifier\\keypoint_classifier.hdf5\n",
      "335/335 [==============================] - 2s 5ms/step - loss: 1.1678 - accuracy: 0.6150 - val_loss: 0.4232 - val_accuracy: 0.9209\n",
      "Epoch 102/1000\n",
      "327/335 [============================>.] - ETA: 0s - loss: 1.1572 - accuracy: 0.6200\n",
      "Epoch 102: saving model to model/keypoint_classifier\\keypoint_classifier.hdf5\n",
      "335/335 [==============================] - 2s 6ms/step - loss: 1.1567 - accuracy: 0.6201 - val_loss: 0.4244 - val_accuracy: 0.9150\n",
      "Epoch 103/1000\n",
      "326/335 [============================>.] - ETA: 0s - loss: 1.1482 - accuracy: 0.6252\n",
      "Epoch 103: saving model to model/keypoint_classifier\\keypoint_classifier.hdf5\n",
      "335/335 [==============================] - 2s 5ms/step - loss: 1.1491 - accuracy: 0.6251 - val_loss: 0.4267 - val_accuracy: 0.9223\n",
      "Epoch 104/1000\n",
      "335/335 [==============================] - ETA: 0s - loss: 1.1517 - accuracy: 0.6223\n",
      "Epoch 104: saving model to model/keypoint_classifier\\keypoint_classifier.hdf5\n",
      "335/335 [==============================] - 2s 5ms/step - loss: 1.1517 - accuracy: 0.6223 - val_loss: 0.4141 - val_accuracy: 0.9265\n",
      "Epoch 105/1000\n",
      "321/335 [===========================>..] - ETA: 0s - loss: 1.1591 - accuracy: 0.6204\n",
      "Epoch 105: saving model to model/keypoint_classifier\\keypoint_classifier.hdf5\n",
      "335/335 [==============================] - 2s 5ms/step - loss: 1.1615 - accuracy: 0.6198 - val_loss: 0.4186 - val_accuracy: 0.9156\n",
      "Epoch 106/1000\n",
      "328/335 [============================>.] - ETA: 0s - loss: 1.1568 - accuracy: 0.6226\n",
      "Epoch 106: saving model to model/keypoint_classifier\\keypoint_classifier.hdf5\n",
      "335/335 [==============================] - 2s 5ms/step - loss: 1.1555 - accuracy: 0.6232 - val_loss: 0.4211 - val_accuracy: 0.9246\n",
      "Epoch 107/1000\n",
      "330/335 [============================>.] - ETA: 0s - loss: 1.1611 - accuracy: 0.6221\n",
      "Epoch 107: saving model to model/keypoint_classifier\\keypoint_classifier.hdf5\n",
      "335/335 [==============================] - 2s 5ms/step - loss: 1.1609 - accuracy: 0.6222 - val_loss: 0.4073 - val_accuracy: 0.9194\n",
      "Epoch 108/1000\n",
      "333/335 [============================>.] - ETA: 0s - loss: 1.1524 - accuracy: 0.6233\n",
      "Epoch 108: saving model to model/keypoint_classifier\\keypoint_classifier.hdf5\n",
      "335/335 [==============================] - 2s 5ms/step - loss: 1.1521 - accuracy: 0.6233 - val_loss: 0.4147 - val_accuracy: 0.9204\n",
      "Epoch 109/1000\n",
      "335/335 [==============================] - ETA: 0s - loss: 1.1488 - accuracy: 0.6225\n",
      "Epoch 109: saving model to model/keypoint_classifier\\keypoint_classifier.hdf5\n",
      "335/335 [==============================] - 2s 5ms/step - loss: 1.1488 - accuracy: 0.6225 - val_loss: 0.4196 - val_accuracy: 0.9157\n",
      "Epoch 110/1000\n",
      "323/335 [===========================>..] - ETA: 0s - loss: 1.1457 - accuracy: 0.6243\n",
      "Epoch 110: saving model to model/keypoint_classifier\\keypoint_classifier.hdf5\n",
      "335/335 [==============================] - 2s 5ms/step - loss: 1.1457 - accuracy: 0.6245 - val_loss: 0.4110 - val_accuracy: 0.9254\n",
      "Epoch 111/1000\n",
      "333/335 [============================>.] - ETA: 0s - loss: 1.1514 - accuracy: 0.6246\n",
      "Epoch 111: saving model to model/keypoint_classifier\\keypoint_classifier.hdf5\n",
      "335/335 [==============================] - 2s 5ms/step - loss: 1.1507 - accuracy: 0.6248 - val_loss: 0.4121 - val_accuracy: 0.9235\n",
      "Epoch 112/1000\n",
      "332/335 [============================>.] - ETA: 0s - loss: 1.1520 - accuracy: 0.6234\n",
      "Epoch 112: saving model to model/keypoint_classifier\\keypoint_classifier.hdf5\n",
      "335/335 [==============================] - 2s 5ms/step - loss: 1.1523 - accuracy: 0.6235 - val_loss: 0.4212 - val_accuracy: 0.9230\n",
      "Epoch 113/1000\n",
      "324/335 [============================>.] - ETA: 0s - loss: 1.1375 - accuracy: 0.6267\n",
      "Epoch 113: saving model to model/keypoint_classifier\\keypoint_classifier.hdf5\n",
      "335/335 [==============================] - 2s 5ms/step - loss: 1.1381 - accuracy: 0.6266 - val_loss: 0.4195 - val_accuracy: 0.9204\n",
      "Epoch 114/1000\n",
      "326/335 [============================>.] - ETA: 0s - loss: 1.1483 - accuracy: 0.6250\n",
      "Epoch 114: saving model to model/keypoint_classifier\\keypoint_classifier.hdf5\n",
      "335/335 [==============================] - 2s 5ms/step - loss: 1.1485 - accuracy: 0.6249 - val_loss: 0.4205 - val_accuracy: 0.9190\n",
      "Epoch 115/1000\n",
      "324/335 [============================>.] - ETA: 0s - loss: 1.1400 - accuracy: 0.6258\n",
      "Epoch 115: saving model to model/keypoint_classifier\\keypoint_classifier.hdf5\n",
      "335/335 [==============================] - 2s 5ms/step - loss: 1.1398 - accuracy: 0.6254 - val_loss: 0.4297 - val_accuracy: 0.9081\n",
      "Epoch 116/1000\n",
      "328/335 [============================>.] - ETA: 0s - loss: 1.1350 - accuracy: 0.6268\n",
      "Epoch 116: saving model to model/keypoint_classifier\\keypoint_classifier.hdf5\n",
      "335/335 [==============================] - 2s 5ms/step - loss: 1.1346 - accuracy: 0.6274 - val_loss: 0.4190 - val_accuracy: 0.9143\n",
      "Epoch 117/1000\n",
      "328/335 [============================>.] - ETA: 0s - loss: 1.1440 - accuracy: 0.6247\n",
      "Epoch 117: saving model to model/keypoint_classifier\\keypoint_classifier.hdf5\n",
      "335/335 [==============================] - 2s 5ms/step - loss: 1.1455 - accuracy: 0.6242 - val_loss: 0.4163 - val_accuracy: 0.9225\n",
      "Epoch 118/1000\n",
      "326/335 [============================>.] - ETA: 0s - loss: 1.1408 - accuracy: 0.6261\n",
      "Epoch 118: saving model to model/keypoint_classifier\\keypoint_classifier.hdf5\n",
      "335/335 [==============================] - 2s 5ms/step - loss: 1.1437 - accuracy: 0.6249 - val_loss: 0.4218 - val_accuracy: 0.9226\n",
      "Epoch 119/1000\n",
      "325/335 [============================>.] - ETA: 0s - loss: 1.1354 - accuracy: 0.6251\n",
      "Epoch 119: saving model to model/keypoint_classifier\\keypoint_classifier.hdf5\n",
      "335/335 [==============================] - 2s 5ms/step - loss: 1.1361 - accuracy: 0.6246 - val_loss: 0.4187 - val_accuracy: 0.9120\n",
      "Epoch 120/1000\n",
      "322/335 [===========================>..] - ETA: 0s - loss: 1.1289 - accuracy: 0.6302\n",
      "Epoch 120: saving model to model/keypoint_classifier\\keypoint_classifier.hdf5\n",
      "335/335 [==============================] - 2s 5ms/step - loss: 1.1297 - accuracy: 0.6303 - val_loss: 0.4173 - val_accuracy: 0.9120\n",
      "Epoch 121/1000\n",
      "334/335 [============================>.] - ETA: 0s - loss: 1.1381 - accuracy: 0.6255\n",
      "Epoch 121: saving model to model/keypoint_classifier\\keypoint_classifier.hdf5\n",
      "335/335 [==============================] - 2s 5ms/step - loss: 1.1381 - accuracy: 0.6256 - val_loss: 0.4016 - val_accuracy: 0.9155\n",
      "Epoch 122/1000\n",
      "327/335 [============================>.] - ETA: 0s - loss: 1.1360 - accuracy: 0.6278\n",
      "Epoch 122: saving model to model/keypoint_classifier\\keypoint_classifier.hdf5\n",
      "335/335 [==============================] - 2s 5ms/step - loss: 1.1365 - accuracy: 0.6275 - val_loss: 0.4221 - val_accuracy: 0.9135\n",
      "Epoch 123/1000\n",
      "326/335 [============================>.] - ETA: 0s - loss: 1.1308 - accuracy: 0.6265\n",
      "Epoch 123: saving model to model/keypoint_classifier\\keypoint_classifier.hdf5\n",
      "335/335 [==============================] - 2s 5ms/step - loss: 1.1307 - accuracy: 0.6271 - val_loss: 0.4113 - val_accuracy: 0.9229\n",
      "Epoch 124/1000\n",
      "329/335 [============================>.] - ETA: 0s - loss: 1.1439 - accuracy: 0.6239\n",
      "Epoch 124: saving model to model/keypoint_classifier\\keypoint_classifier.hdf5\n",
      "335/335 [==============================] - 2s 5ms/step - loss: 1.1438 - accuracy: 0.6241 - val_loss: 0.4247 - val_accuracy: 0.9074\n",
      "Epoch 125/1000\n",
      "323/335 [===========================>..] - ETA: 0s - loss: 1.1358 - accuracy: 0.6268\n",
      "Epoch 125: saving model to model/keypoint_classifier\\keypoint_classifier.hdf5\n",
      "335/335 [==============================] - 2s 5ms/step - loss: 1.1366 - accuracy: 0.6270 - val_loss: 0.4112 - val_accuracy: 0.9177\n",
      "Epoch 126/1000\n",
      "333/335 [============================>.] - ETA: 0s - loss: 1.1233 - accuracy: 0.6298\n",
      "Epoch 126: saving model to model/keypoint_classifier\\keypoint_classifier.hdf5\n",
      "335/335 [==============================] - 2s 5ms/step - loss: 1.1232 - accuracy: 0.6299 - val_loss: 0.4207 - val_accuracy: 0.9147\n",
      "Epoch 127/1000\n",
      "331/335 [============================>.] - ETA: 0s - loss: 1.1417 - accuracy: 0.6266\n",
      "Epoch 127: saving model to model/keypoint_classifier\\keypoint_classifier.hdf5\n",
      "335/335 [==============================] - 2s 5ms/step - loss: 1.1413 - accuracy: 0.6266 - val_loss: 0.4133 - val_accuracy: 0.9214\n",
      "Epoch 128/1000\n",
      "327/335 [============================>.] - ETA: 0s - loss: 1.1340 - accuracy: 0.6269\n",
      "Epoch 128: saving model to model/keypoint_classifier\\keypoint_classifier.hdf5\n",
      "335/335 [==============================] - 2s 5ms/step - loss: 1.1356 - accuracy: 0.6264 - val_loss: 0.4210 - val_accuracy: 0.9072\n",
      "Epoch 129/1000\n",
      "322/335 [===========================>..] - ETA: 0s - loss: 1.1246 - accuracy: 0.6314\n",
      "Epoch 129: saving model to model/keypoint_classifier\\keypoint_classifier.hdf5\n",
      "335/335 [==============================] - 2s 5ms/step - loss: 1.1259 - accuracy: 0.6312 - val_loss: 0.4147 - val_accuracy: 0.9214\n",
      "Epoch 130/1000\n",
      "329/335 [============================>.] - ETA: 0s - loss: 1.1258 - accuracy: 0.6312\n",
      "Epoch 130: saving model to model/keypoint_classifier\\keypoint_classifier.hdf5\n",
      "335/335 [==============================] - 2s 5ms/step - loss: 1.1273 - accuracy: 0.6308 - val_loss: 0.4107 - val_accuracy: 0.9080\n",
      "Epoch 131/1000\n",
      "335/335 [==============================] - ETA: 0s - loss: 1.1293 - accuracy: 0.6286\n",
      "Epoch 131: saving model to model/keypoint_classifier\\keypoint_classifier.hdf5\n",
      "335/335 [==============================] - 2s 5ms/step - loss: 1.1293 - accuracy: 0.6286 - val_loss: 0.4189 - val_accuracy: 0.9143\n",
      "Epoch 132/1000\n",
      "335/335 [==============================] - ETA: 0s - loss: 1.1136 - accuracy: 0.6344\n",
      "Epoch 132: saving model to model/keypoint_classifier\\keypoint_classifier.hdf5\n",
      "335/335 [==============================] - 2s 5ms/step - loss: 1.1136 - accuracy: 0.6344 - val_loss: 0.4124 - val_accuracy: 0.9174\n",
      "Epoch 133/1000\n",
      "331/335 [============================>.] - ETA: 0s - loss: 1.1231 - accuracy: 0.6321\n",
      "Epoch 133: saving model to model/keypoint_classifier\\keypoint_classifier.hdf5\n",
      "335/335 [==============================] - 2s 5ms/step - loss: 1.1239 - accuracy: 0.6317 - val_loss: 0.4141 - val_accuracy: 0.9098\n",
      "Epoch 134/1000\n",
      "325/335 [============================>.] - ETA: 0s - loss: 1.1120 - accuracy: 0.6327\n",
      "Epoch 134: saving model to model/keypoint_classifier\\keypoint_classifier.hdf5\n",
      "335/335 [==============================] - 2s 5ms/step - loss: 1.1148 - accuracy: 0.6328 - val_loss: 0.4170 - val_accuracy: 0.9157\n",
      "Epoch 135/1000\n",
      "328/335 [============================>.] - ETA: 0s - loss: 1.1329 - accuracy: 0.6286\n",
      "Epoch 135: saving model to model/keypoint_classifier\\keypoint_classifier.hdf5\n",
      "335/335 [==============================] - 2s 5ms/step - loss: 1.1330 - accuracy: 0.6289 - val_loss: 0.4173 - val_accuracy: 0.9226\n",
      "Epoch 136/1000\n",
      "324/335 [============================>.] - ETA: 0s - loss: 1.1192 - accuracy: 0.6306\n",
      "Epoch 136: saving model to model/keypoint_classifier\\keypoint_classifier.hdf5\n",
      "335/335 [==============================] - 2s 5ms/step - loss: 1.1177 - accuracy: 0.6309 - val_loss: 0.4045 - val_accuracy: 0.9155\n",
      "Epoch 137/1000\n",
      "323/335 [===========================>..] - ETA: 0s - loss: 1.1235 - accuracy: 0.6296\n",
      "Epoch 137: saving model to model/keypoint_classifier\\keypoint_classifier.hdf5\n",
      "335/335 [==============================] - 2s 5ms/step - loss: 1.1235 - accuracy: 0.6292 - val_loss: 0.4220 - val_accuracy: 0.9131\n",
      "Epoch 138/1000\n",
      "322/335 [===========================>..] - ETA: 0s - loss: 1.1245 - accuracy: 0.6309\n",
      "Epoch 138: saving model to model/keypoint_classifier\\keypoint_classifier.hdf5\n",
      "335/335 [==============================] - 2s 5ms/step - loss: 1.1234 - accuracy: 0.6314 - val_loss: 0.4326 - val_accuracy: 0.9073\n",
      "Epoch 139/1000\n",
      "330/335 [============================>.] - ETA: 0s - loss: 1.1155 - accuracy: 0.6334\n",
      "Epoch 139: saving model to model/keypoint_classifier\\keypoint_classifier.hdf5\n",
      "335/335 [==============================] - 2s 5ms/step - loss: 1.1158 - accuracy: 0.6332 - val_loss: 0.4145 - val_accuracy: 0.9219\n",
      "Epoch 140/1000\n",
      "331/335 [============================>.] - ETA: 0s - loss: 1.1230 - accuracy: 0.6317\n",
      "Epoch 140: saving model to model/keypoint_classifier\\keypoint_classifier.hdf5\n",
      "335/335 [==============================] - 2s 5ms/step - loss: 1.1226 - accuracy: 0.6319 - val_loss: 0.4130 - val_accuracy: 0.9141\n",
      "Epoch 141/1000\n",
      "319/335 [===========================>..] - ETA: 0s - loss: 1.1087 - accuracy: 0.6357\n",
      "Epoch 141: saving model to model/keypoint_classifier\\keypoint_classifier.hdf5\n",
      "335/335 [==============================] - 2s 5ms/step - loss: 1.1110 - accuracy: 0.6355 - val_loss: 0.4194 - val_accuracy: 0.9194\n",
      "Epoch 141: early stopping\n"
     ]
    },
    {
     "data": {
      "text/plain": [
       "<keras.src.callbacks.History at 0x1d2d8a02580>"
      ]
     },
     "execution_count": 35,
     "metadata": {},
     "output_type": "execute_result"
    }
   ],
   "source": [
    "model.fit(\n",
    "    X_train,\n",
    "    y_train,\n",
    "    epochs=1000,\n",
    "    batch_size=128,\n",
    "    validation_data=(X_test, y_test),\n",
    "    callbacks=[cp_callback, es_callback]\n",
    ")"
   ]
  },
  {
   "cell_type": "code",
   "execution_count": 39,
   "metadata": {
    "colab": {
     "base_uri": "https://localhost:8080/"
    },
    "id": "pxvb2Y299hE3",
    "outputId": "59eb3185-2e37-4b9e-bc9d-ab1b8ac29b7f"
   },
   "outputs": [
    {
     "name": "stdout",
     "output_type": "stream",
     "text": [
      "Epoch 1/50\n",
      "335/335 [==============================] - 2s 5ms/step - loss: 1.1285 - accuracy: 0.6266 - val_loss: 0.4191 - val_accuracy: 0.9188\n",
      "Epoch 2/50\n",
      "335/335 [==============================] - 2s 5ms/step - loss: 1.1129 - accuracy: 0.6331 - val_loss: 0.4186 - val_accuracy: 0.9116\n",
      "Epoch 3/50\n",
      "335/335 [==============================] - 1s 4ms/step - loss: 1.1095 - accuracy: 0.6356 - val_loss: 0.4164 - val_accuracy: 0.9181\n",
      "Epoch 4/50\n",
      "335/335 [==============================] - 1s 4ms/step - loss: 1.1128 - accuracy: 0.6336 - val_loss: 0.4261 - val_accuracy: 0.9033\n",
      "Epoch 5/50\n",
      "335/335 [==============================] - 2s 5ms/step - loss: 1.1255 - accuracy: 0.6299 - val_loss: 0.4228 - val_accuracy: 0.9096\n",
      "Epoch 6/50\n",
      "335/335 [==============================] - 2s 5ms/step - loss: 1.1129 - accuracy: 0.6331 - val_loss: 0.4125 - val_accuracy: 0.9110\n",
      "Epoch 7/50\n",
      "335/335 [==============================] - 2s 5ms/step - loss: 1.1108 - accuracy: 0.6377 - val_loss: 0.4133 - val_accuracy: 0.9181\n",
      "Epoch 8/50\n",
      "335/335 [==============================] - 1s 4ms/step - loss: 1.1177 - accuracy: 0.6309 - val_loss: 0.4015 - val_accuracy: 0.9108\n",
      "Epoch 9/50\n",
      "335/335 [==============================] - 1s 4ms/step - loss: 1.1217 - accuracy: 0.6337 - val_loss: 0.4199 - val_accuracy: 0.9165\n",
      "Epoch 10/50\n",
      "335/335 [==============================] - 1s 4ms/step - loss: 1.1172 - accuracy: 0.6317 - val_loss: 0.4199 - val_accuracy: 0.9131\n",
      "Epoch 11/50\n",
      "335/335 [==============================] - 1s 4ms/step - loss: 1.1087 - accuracy: 0.6373 - val_loss: 0.4293 - val_accuracy: 0.9048\n",
      "Epoch 12/50\n",
      "335/335 [==============================] - 1s 4ms/step - loss: 1.1175 - accuracy: 0.6357 - val_loss: 0.4178 - val_accuracy: 0.9193\n",
      "Epoch 13/50\n",
      "335/335 [==============================] - 2s 5ms/step - loss: 1.1095 - accuracy: 0.6377 - val_loss: 0.4161 - val_accuracy: 0.9110\n",
      "Epoch 14/50\n",
      "335/335 [==============================] - 2s 5ms/step - loss: 1.1121 - accuracy: 0.6362 - val_loss: 0.4311 - val_accuracy: 0.9035\n",
      "Epoch 15/50\n",
      "335/335 [==============================] - 2s 5ms/step - loss: 1.1082 - accuracy: 0.6379 - val_loss: 0.4026 - val_accuracy: 0.9249\n",
      "Epoch 16/50\n",
      "335/335 [==============================] - 1s 4ms/step - loss: 1.1080 - accuracy: 0.6365 - val_loss: 0.4213 - val_accuracy: 0.9094\n",
      "Epoch 17/50\n",
      "335/335 [==============================] - 1s 4ms/step - loss: 1.1038 - accuracy: 0.6377 - val_loss: 0.4159 - val_accuracy: 0.9126\n",
      "Epoch 18/50\n",
      "335/335 [==============================] - 1s 4ms/step - loss: 1.1015 - accuracy: 0.6382 - val_loss: 0.4215 - val_accuracy: 0.9073\n",
      "Epoch 19/50\n",
      "335/335 [==============================] - 2s 5ms/step - loss: 1.1053 - accuracy: 0.6366 - val_loss: 0.4186 - val_accuracy: 0.9178\n",
      "Epoch 20/50\n",
      "335/335 [==============================] - 1s 4ms/step - loss: 1.1063 - accuracy: 0.6368 - val_loss: 0.4224 - val_accuracy: 0.8967\n",
      "Epoch 21/50\n",
      "335/335 [==============================] - 2s 4ms/step - loss: 1.1044 - accuracy: 0.6334 - val_loss: 0.4095 - val_accuracy: 0.9168\n",
      "Epoch 22/50\n",
      "335/335 [==============================] - 2s 5ms/step - loss: 1.1109 - accuracy: 0.6363 - val_loss: 0.4235 - val_accuracy: 0.9207\n",
      "Epoch 23/50\n",
      "335/335 [==============================] - 2s 5ms/step - loss: 1.1002 - accuracy: 0.6407 - val_loss: 0.4021 - val_accuracy: 0.9194\n",
      "Epoch 24/50\n",
      "335/335 [==============================] - 2s 5ms/step - loss: 1.1142 - accuracy: 0.6364 - val_loss: 0.4268 - val_accuracy: 0.9042\n",
      "Epoch 25/50\n",
      "335/335 [==============================] - 2s 5ms/step - loss: 1.1067 - accuracy: 0.6370 - val_loss: 0.4211 - val_accuracy: 0.9137\n",
      "Epoch 26/50\n",
      "335/335 [==============================] - 2s 5ms/step - loss: 1.1092 - accuracy: 0.6349 - val_loss: 0.4132 - val_accuracy: 0.9180\n",
      "Epoch 27/50\n",
      "335/335 [==============================] - 2s 5ms/step - loss: 1.0997 - accuracy: 0.6391 - val_loss: 0.4165 - val_accuracy: 0.9068\n",
      "Epoch 28/50\n",
      "335/335 [==============================] - 2s 4ms/step - loss: 1.0946 - accuracy: 0.6403 - val_loss: 0.4067 - val_accuracy: 0.9090\n",
      "Epoch 29/50\n",
      "335/335 [==============================] - 2s 5ms/step - loss: 1.0990 - accuracy: 0.6380 - val_loss: 0.4119 - val_accuracy: 0.9050\n",
      "Epoch 30/50\n",
      "335/335 [==============================] - 2s 5ms/step - loss: 1.1090 - accuracy: 0.6373 - val_loss: 0.4183 - val_accuracy: 0.9183\n",
      "Epoch 31/50\n",
      "335/335 [==============================] - 2s 5ms/step - loss: 1.1128 - accuracy: 0.6355 - val_loss: 0.4262 - val_accuracy: 0.9008\n",
      "Epoch 32/50\n",
      "335/335 [==============================] - 2s 5ms/step - loss: 1.0993 - accuracy: 0.6409 - val_loss: 0.4271 - val_accuracy: 0.9083\n",
      "Epoch 33/50\n",
      "335/335 [==============================] - 2s 5ms/step - loss: 1.1045 - accuracy: 0.6382 - val_loss: 0.4213 - val_accuracy: 0.9030\n",
      "Epoch 34/50\n",
      "335/335 [==============================] - 2s 5ms/step - loss: 1.1038 - accuracy: 0.6394 - val_loss: 0.4281 - val_accuracy: 0.9145\n",
      "Epoch 35/50\n",
      "335/335 [==============================] - 2s 5ms/step - loss: 1.0971 - accuracy: 0.6391 - val_loss: 0.4210 - val_accuracy: 0.9124\n",
      "Epoch 36/50\n",
      "335/335 [==============================] - 2s 5ms/step - loss: 1.1044 - accuracy: 0.6376 - val_loss: 0.4125 - val_accuracy: 0.9167\n",
      "Epoch 37/50\n",
      "335/335 [==============================] - 2s 5ms/step - loss: 1.0991 - accuracy: 0.6397 - val_loss: 0.4166 - val_accuracy: 0.9160\n",
      "Epoch 38/50\n",
      "335/335 [==============================] - 2s 5ms/step - loss: 1.0954 - accuracy: 0.6410 - val_loss: 0.4242 - val_accuracy: 0.9000\n",
      "Epoch 39/50\n",
      "335/335 [==============================] - 2s 5ms/step - loss: 1.0857 - accuracy: 0.6406 - val_loss: 0.4133 - val_accuracy: 0.9057\n",
      "Epoch 40/50\n",
      "335/335 [==============================] - 2s 5ms/step - loss: 1.0922 - accuracy: 0.6433 - val_loss: 0.4320 - val_accuracy: 0.9037\n",
      "Epoch 41/50\n",
      "335/335 [==============================] - 2s 5ms/step - loss: 1.0969 - accuracy: 0.6405 - val_loss: 0.4258 - val_accuracy: 0.9077\n",
      "Epoch 42/50\n",
      "335/335 [==============================] - 1s 4ms/step - loss: 1.0851 - accuracy: 0.6432 - val_loss: 0.4177 - val_accuracy: 0.9080\n",
      "Epoch 43/50\n",
      "335/335 [==============================] - 1s 4ms/step - loss: 1.0939 - accuracy: 0.6441 - val_loss: 0.4129 - val_accuracy: 0.9181\n",
      "Epoch 44/50\n",
      "335/335 [==============================] - 1s 4ms/step - loss: 1.0949 - accuracy: 0.6419 - val_loss: 0.4208 - val_accuracy: 0.9247\n",
      "Epoch 45/50\n",
      "335/335 [==============================] - 2s 5ms/step - loss: 1.0944 - accuracy: 0.6389 - val_loss: 0.4143 - val_accuracy: 0.9125\n",
      "Epoch 46/50\n",
      "335/335 [==============================] - 2s 5ms/step - loss: 1.0998 - accuracy: 0.6398 - val_loss: 0.4144 - val_accuracy: 0.9122\n",
      "Epoch 47/50\n",
      "335/335 [==============================] - 2s 5ms/step - loss: 1.0909 - accuracy: 0.6443 - val_loss: 0.4129 - val_accuracy: 0.9157\n",
      "Epoch 48/50\n",
      "335/335 [==============================] - 2s 5ms/step - loss: 1.0908 - accuracy: 0.6425 - val_loss: 0.4153 - val_accuracy: 0.9153\n",
      "Epoch 49/50\n",
      "335/335 [==============================] - 1s 4ms/step - loss: 1.0923 - accuracy: 0.6414 - val_loss: 0.4275 - val_accuracy: 0.9035\n",
      "Epoch 50/50\n",
      "335/335 [==============================] - 2s 5ms/step - loss: 1.0933 - accuracy: 0.6434 - val_loss: 0.4136 - val_accuracy: 0.9091\n",
      "112/112 [==============================] - 0s 3ms/step - loss: 0.4136 - accuracy: 0.9091\n"
     ]
    },
    {
     "data": {
      "image/png": "[encoded data removed]",
      "text/plain": [
       "<Figure size 1200x400 with 2 Axes>"
      ]
     },
     "metadata": {},
     "output_type": "display_data"
    }
   ],
   "source": [
    "history = model.fit(X_train, y_train, \n",
    "                    epochs=50, \n",
    "                    batch_size=128, \n",
    "                    validation_data=(X_test, y_test))\n",
    "\n",
    "# Model evaluation\n",
    "val_loss, val_acc = model.evaluate(X_test, y_test, batch_size=128)\n",
    "\n",
    "import matplotlib.pyplot as plt\n",
    "\n",
    "# Plot training & validation loss values\n",
    "plt.figure(figsize=(12, 4))\n",
    "\n",
    "plt.subplot(1, 2, 1)\n",
    "plt.plot(history.history['loss'])\n",
    "plt.plot(history.history['val_loss'])\n",
    "plt.title('Model Loss')\n",
    "plt.xlabel('Epoch')\n",
    "plt.ylabel('Loss')\n",
    "plt.legend(['Train', 'Validation'], loc='upper right')\n",
    "\n",
    "# Plot training & validation accuracy values\n",
    "plt.subplot(1, 2, 2)\n",
    "plt.plot(history.history['accuracy'])\n",
    "plt.plot(history.history['val_accuracy'])\n",
    "plt.title('Model Accuracy')\n",
    "plt.xlabel('Epoch')\n",
    "plt.ylabel('Accuracy')\n",
    "plt.legend(['Train', 'Validation'], loc='upper left')\n",
    "\n",
    "plt.tight_layout()\n",
    "plt.show()"
   ]
  },
  {
   "cell_type": "code",
   "execution_count": null,
   "metadata": {
    "id": "RBkmDeUW9hE4"
   },
   "outputs": [],
   "source": [
    "# Loading the saved model\n",
    "model = tf.keras.models.load_model(model_save_path)"
   ]
  },
  {
   "cell_type": "code",
   "execution_count": null,
   "metadata": {
    "colab": {
     "base_uri": "https://localhost:8080/"
    },
    "id": "tFz9Tb0I9hE4",
    "outputId": "1c3b3528-54ae-4ee2-ab04-77429211cbef"
   },
   "outputs": [],
   "source": [
    "# Inference test\n",
    "predict_result = model.predict(np.array([X_test[0]]))\n",
    "print(np.squeeze(predict_result))\n",
    "print(np.argmax(np.squeeze(predict_result)))"
   ]
  },
  {
   "cell_type": "markdown",
   "metadata": {
    "id": "S3U4yNWx9hE4"
   },
   "source": [
    "# Confusion matrix"
   ]
  },
  {
   "cell_type": "code",
   "execution_count": null,
   "metadata": {
    "colab": {
     "base_uri": "https://localhost:8080/",
     "height": 582
    },
    "id": "AP1V6SCk9hE5",
    "outputId": "08e41a80-7a4a-4619-8125-ecc371368d19"
   },
   "outputs": [],
   "source": [
    "import pandas as pd\n",
    "import seaborn as sns\n",
    "import matplotlib.pyplot as plt\n",
    "from sklearn.metrics import confusion_matrix, classification_report\n",
    "\n",
    "def print_confusion_matrix(y_true, y_pred, report=True):\n",
    "    labels = sorted(list(set(y_true)))\n",
    "    cmx_data = confusion_matrix(y_true, y_pred, labels=labels)\n",
    "    \n",
    "    df_cmx = pd.DataFrame(cmx_data, index=labels, columns=labels)\n",
    " \n",
    "    fig, ax = plt.subplots(figsize=(7, 6))\n",
    "    sns.heatmap(df_cmx, annot=True, fmt='g' ,square=False)\n",
    "    ax.set_ylim(len(set(y_true)), 0)\n",
    "    plt.show()\n",
    "    \n",
    "    if report:\n",
    "        print('Classification Report')\n",
    "        print(classification_report(y_test, y_pred))\n",
    "\n",
    "Y_pred = model.predict(X_test)\n",
    "y_pred = np.argmax(Y_pred, axis=1)\n",
    "\n",
    "print_confusion_matrix(y_test, y_pred)"
   ]
  },
  {
   "cell_type": "markdown",
   "metadata": {
    "id": "FNP6aqzc9hE5"
   },
   "source": [
    "# Convert to model for Tensorflow-Lite"
   ]
  },
  {
   "cell_type": "code",
   "execution_count": null,
   "metadata": {
    "id": "ODjnYyld9hE6"
   },
   "outputs": [],
   "source": [
    "# Save as a model dedicated to inference\n",
    "model.save(model_save_path, include_optimizer=False)"
   ]
  },
  {
   "cell_type": "code",
   "execution_count": null,
   "metadata": {
    "colab": {
     "base_uri": "https://localhost:8080/"
    },
    "id": "zRfuK8Y59hE6",
    "outputId": "a4ca585c-b5d5-4244-8291-8674063209bb"
   },
   "outputs": [],
   "source": [
    "# Transform model (quantization)\n",
    "\n",
    "converter = tf.lite.TFLiteConverter.from_keras_model(model)\n",
    "converter.optimizations = [tf.lite.Optimize.DEFAULT]\n",
    "tflite_quantized_model = converter.convert()\n",
    "\n",
    "open(tflite_save_path, 'wb').write(tflite_quantized_model)"
   ]
  },
  {
   "cell_type": "markdown",
   "metadata": {
    "id": "CHBPBXdx9hE6"
   },
   "source": [
    "# Inference test"
   ]
  },
  {
   "cell_type": "code",
   "execution_count": null,
   "metadata": {
    "id": "mGAzLocO9hE7"
   },
   "outputs": [],
   "source": [
    "interpreter = tf.lite.Interpreter(model_path=tflite_save_path)\n",
    "interpreter.allocate_tensors()"
   ]
  },
  {
   "cell_type": "code",
   "execution_count": null,
   "metadata": {
    "id": "oQuDK8YS9hE7"
   },
   "outputs": [],
   "source": [
    "# Get I / O tensor\n",
    "input_details = interpreter.get_input_details()\n",
    "output_details = interpreter.get_output_details()"
   ]
  },
  {
   "cell_type": "code",
   "execution_count": null,
   "metadata": {
    "id": "2_ixAf_l9hE7"
   },
   "outputs": [],
   "source": [
    "interpreter.set_tensor(input_details[0]['index'], np.array([X_test[0]]))"
   ]
  },
  {
   "cell_type": "code",
   "execution_count": null,
   "metadata": {
    "colab": {
     "base_uri": "https://localhost:8080/"
    },
    "id": "s4FoAnuc9hE7",
    "outputId": "91f18257-8d8b-4ef3-c558-e9b5f94fabbf",
    "scrolled": true
   },
   "outputs": [],
   "source": [
    "%%time\n",
    "# Inference implementation\n",
    "interpreter.invoke()\n",
    "tflite_results = interpreter.get_tensor(output_details[0]['index'])"
   ]
  },
  {
   "cell_type": "code",
   "execution_count": null,
   "metadata": {
    "colab": {
     "base_uri": "https://localhost:8080/"
    },
    "id": "vONjp19J9hE8",
    "outputId": "77205e24-fd00-42c4-f7b6-e06e527c2cba"
   },
   "outputs": [],
   "source": [
    "print(np.squeeze(tflite_results))\n",
    "print(np.argmax(np.squeeze(tflite_results)))"
   ]
  }
 ],
 "metadata": {
  "accelerator": "GPU",
  "colab": {
   "collapsed_sections": [],
   "name": "keypoint_classification_EN.ipynb",
   "provenance": [],
   "toc_visible": true
  },
  "kernelspec": {
   "display_name": "Python 3 (ipykernel)",
   "language": "python",
   "name": "python3"
  },
  "language_info": {
   "codemirror_mode": {
    "name": "ipython",
    "version": 3
   },
   "file_extension": ".py",
   "mimetype": "text/x-python",
   "name": "python",
   "nbconvert_exporter": "python",
   "pygments_lexer": "ipython3",
   "version": "3.8.10"
  }
 },
 "nbformat": 4,
 "nbformat_minor": 4
}
